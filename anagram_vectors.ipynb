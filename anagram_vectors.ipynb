{
 "metadata": {
  "name": ""
 },
 "nbformat": 3,
 "nbformat_minor": 0,
 "worksheets": [
  {
   "cells": [
    {
     "cell_type": "code",
     "collapsed": false,
     "input": [
      "%pylab inline"
     ],
     "language": "python",
     "metadata": {},
     "outputs": [
      {
       "output_type": "stream",
       "stream": "stdout",
       "text": [
        "Populating the interactive namespace from numpy and matplotlib\n"
       ]
      }
     ],
     "prompt_number": 2
    },
    {
     "cell_type": "code",
     "collapsed": false,
     "input": [
      "%run mixmaster/letter_matrix.py\n",
      "%run mixmaster/wordlist.py"
     ],
     "language": "python",
     "metadata": {},
     "outputs": [],
     "prompt_number": 3
    },
    {
     "cell_type": "code",
     "collapsed": false,
     "input": [
      "from numpy.linalg import svd"
     ],
     "language": "python",
     "metadata": {},
     "outputs": [],
     "prompt_number": 4
    },
    {
     "cell_type": "markdown",
     "metadata": {},
     "source": [
      "`wordfreqs` is a list of (word, frequency) tuples. These can be converted to 26-D vectors that simply count the number of occurrences of each letter. (Words are anagrams when these vectors are equal.)"
     ]
    },
    {
     "cell_type": "code",
     "collapsed": false,
     "input": [
      "wordfreqs = list(get_wordlist_filtered())\n",
      "wordfreqs[10000]"
     ],
     "language": "python",
     "metadata": {},
     "outputs": [
      {
       "metadata": {},
       "output_type": "pyout",
       "prompt_number": 5,
       "text": [
        "('ALLUSION', 928167.0)"
       ]
      }
     ],
     "prompt_number": 5
    },
    {
     "cell_type": "code",
     "collapsed": false,
     "input": [
      "wordlengths = np.array([len(word) for word, freq in wordfreqs])\n",
      "freqs = np.array([freq for word, freq in wordfreqs])"
     ],
     "language": "python",
     "metadata": {},
     "outputs": [],
     "prompt_number": 27
    },
    {
     "cell_type": "code",
     "collapsed": false,
     "input": [
      "wordvecs = [letters_to_vec(word) for word, freq in wordfreqs]\n",
      "wordvecs[10000]"
     ],
     "language": "python",
     "metadata": {},
     "outputs": [
      {
       "metadata": {},
       "output_type": "pyout",
       "prompt_number": 6,
       "text": [
        "array([ 1.,  0.,  0.,  0.,  0.,  0.,  0.,  0.,  1.,  0.,  0.,  2.,  0.,\n",
        "        1.,  1.,  0.,  0.,  0.,  1.,  0.,  1.,  0.,  0.,  0.,  0.,  0.])"
       ]
      }
     ],
     "prompt_number": 6
    },
    {
     "cell_type": "markdown",
     "metadata": {},
     "source": [
      "Make a matrix from these vectors. Then make a version scaled to letter frequencies, so they add up to 1 in each row. Finally, subtract out the mean. We now believe we have a cloud of points where the origin represents a typical distribution of letters."
     ]
    },
    {
     "cell_type": "code",
     "collapsed": false,
     "input": [
      "wordmat = np.vstack(wordvecs)"
     ],
     "language": "python",
     "metadata": {},
     "outputs": [],
     "prompt_number": 7
    },
    {
     "cell_type": "code",
     "collapsed": false,
     "input": [
      "wordmat_scaled = (wordmat / wordmat.sum(axis=1)[:, np.newaxis])\n",
      "wordmat_centered = wordmat_scaled / wordmat_scaled.mean(axis=0) - 1."
     ],
     "language": "python",
     "metadata": {},
     "outputs": [],
     "prompt_number": 72
    },
    {
     "cell_type": "markdown",
     "metadata": {},
     "source": [
      "Take a *full* SVD. This gives us a new 26-dimensional basis for this vector space of letters, but with nice SVD properties. Not only does the origin represent typical letters, but we believe that `u * s` should form a fuzzy spherical ball around the origin. Distance from the origin in this representation represents how *abnormal* the word is."
     ]
    },
    {
     "cell_type": "code",
     "collapsed": false,
     "input": [
      "u, s, vt = svd(wordmat_centered, full_matrices=False)\n",
      "v = vt.T"
     ],
     "language": "python",
     "metadata": {},
     "outputs": [],
     "prompt_number": 73
    },
    {
     "cell_type": "code",
     "collapsed": false,
     "input": [
      "u.shape"
     ],
     "language": "python",
     "metadata": {},
     "outputs": [
      {
       "metadata": {},
       "output_type": "pyout",
       "prompt_number": 74,
       "text": [
        "(45683, 26)"
       ]
      }
     ],
     "prompt_number": 74
    },
    {
     "cell_type": "markdown",
     "metadata": {},
     "source": [
      "In reality, it's not spherical, but we can still get away with pretending it is."
     ]
    },
    {
     "cell_type": "code",
     "collapsed": false,
     "input": [
      "import matplotlib.pyplot as plt\n",
      "fig = plt.figure()\n",
      "ax = fig.add_subplot(111)\n",
      "ax.plot(wordmat_centered[:,24], wordmat_centered[:,25], 'k.', markersize=2)"
     ],
     "language": "python",
     "metadata": {},
     "outputs": [
      {
       "metadata": {},
       "output_type": "pyout",
       "prompt_number": 75,
       "text": [
        "[<matplotlib.lines.Line2D at 0x7fa438c0c350>]"
       ]
      },
      {
       "metadata": {},
       "output_type": "display_data",
       "png": "[encoded data removed]",
       "text": [
        "<matplotlib.figure.Figure at 0x7fa438cba6d0>"
       ]
      }
     ],
     "prompt_number": 75
    },
    {
     "cell_type": "markdown",
     "metadata": {},
     "source": [
      "*v* is an operator that projects word vectors into this space where distance represents difficulty of anagramming.\n",
      "\n",
      "No. Wait a minute. *v* is an orthogonal matrix and it can't change distances at all. Distances in our *original* matrix represented difficulty of anagramming, and the whole SVD was unnecessary."
     ]
    },
    {
     "cell_type": "code",
     "collapsed": false,
     "input": [
      "wvecs = wordmat_centered\n",
      "distances = np.sum(wvecs ** 2, axis=1)\n",
      "argsorted = np.argsort(distances)\n",
      "for idx in range(100):\n",
      "    print(wordfreqs[argsorted[idx]], distances[argsorted[idx]], '\\t', wordfreqs[argsorted[-1-idx]], distances[argsorted[-1-idx]]) "
     ],
     "language": "python",
     "metadata": {},
     "outputs": [
      {
       "output_type": "stream",
       "stream": "stdout",
       "text": [
        "('DECLARATIONS', 709937.0) 18.8047763826 \t ('QQ', 77691.0) 237465.700497\n",
        "('THREEDIMENSIONAL', 71878.0) 19.2000226845 \t ('Q', 5688877.0) 237465.700497\n",
        "('TRANSCENDENTALISM', 83693.0) 19.8631648311 \t ('Z', 4339709.0) 108046.958061\n",
        "('LACERATIONS', 145491.0) 19.8734442681 \t ('J', 38206292.0) 106609.247005\n",
        "('INTERRELATIONSHIPS', 251494.0) 19.8856253268 \t ('JJ', 960220.0) 106609.247005\n",
        "('GLOMERULONEPHRITIS', 184280.0) 19.8968249206 \t ('SQQ', 161621.0) 105347.770513\n",
        "('DOCUMENTARIES', 92978.0) 19.9051658653 \t ('X', 18699955.0) 68828.1565697\n",
        "('CONSIDERATE', 325629.0) 19.9664871278 \t ('XX', 1238105.0) 68828.1565697\n",
        "('DESECRATION', 93570.0) 19.9664871278 \t ('XXX', 531371.0) 68828.1565697\n",
        "('INCONSIDERATE', 108838.0) 20.0482272189 \t ('QV', 999959.0) 60705.3917407\n",
        "('RECONSIDERATION', 183467.0) 20.1417027616 \t ('QF', 96251.0) 60251.4082091\n",
        "('DISCOURAGEMENT', 290229.0) 20.1613585717 \t ('HQ', 139064.0) 59496.4800107\n",
        "('REPRESENTATIONAL', 239163.0) 20.1649994669 \t ('PQ', 125487.0) 59409.7402698\n",
        "('DECELERATION', 122051.0) 20.1819041709 \t ('QU', 1427431.0) 59329.3512332\n",
        "('CREDENTIALS', 544966.0) 20.232143295 \t ('CQ', 87572.0) 59262.4984593\n",
        "('ORIENTALS', 135776.0) 20.2850926315 \t ('QC', 101502.0) 59262.4984593\n",
        "('RELATIONS', 16203764.0) 20.2850926315 \t ('QL', 93734.0) 59209.0158694\n",
        "('ULCERATIONS', 107152.0) 20.3013590547 \t ('QT', 176181.0) 59184.6114484\n",
        "('MISREPRESENTATION', 279436.0) 20.4232235377 \t ('QR', 77109.0) 59176.3375873\n",
        "('MISREPRESENTATIONS', 114807.0) 20.5717503184 \t ('SQ', 1374045.0) 59170.8288849\n",
        "('CHOLINESTERASE', 89656.0) 20.577633666 \t ('QS', 73023.0) 59170.8288849\n",
        "('PREDILECTIONS', 84602.0) 20.5971799144 \t ('IQ', 872292.0) 59167.4131436\n",
        "('ELECTROENCEPHALOGRAM', 75981.0) 20.6822590676 \t ('QI', 269127.0) 59167.4131436\n",
        "('REACTIONARIES', 108827.0) 20.7668621071 \t ('AQ', 143026.0) 59165.7992352\n",
        "('SENATORIAL', 248941.0) 20.8111956506 \t ('QA', 150928.0) 59165.7992352\n",
        "('RATIONALES', 115030.0) 20.8111956506 \t ('EQ', 2740346.0) 59152.427825\n",
        "('INTERRELATIONSHIP', 160514.0) 20.9224058781 \t ('XXXIX', 212695.0) 43976.2665726\n",
        "('REALISATION', 165794.0) 20.9861668199 \t ('XXXV', 264059.0) 38999.0981987\n",
        "('PERSONALITIES', 1124833.0) 21.0125497198 \t ('XXIX', 405966.0) 38631.8010102\n",
        "('INTERRELATIONS', 142826.0) 21.2531829137 \t ('XXXI', 375219.0) 38631.8010102\n",
        "('CONSIDERATIONS', 4796213.0) 21.3294017752 \t ('JAZZ', 1307010.0) 33408.0595313\n",
        "('RESIDENTIAL', 1768718.0) 21.3448658467 \t ('XXV', 572921.0) 31164.6239836\n",
        "('TOLERANCES', 232243.0) 21.3852317459 \t ('LXX', 210600.0) 30513.4769054\n",
        "('UNIDIRECTIONAL', 113958.0) 21.4282407441 \t ('XXI', 870612.0) 30496.3645723\n",
        "('DECLARATION', 3950488.0) 21.4654567653 \t ('XIX', 1067629.0) 30496.3645723\n",
        "('INTERCOSTAL', 270044.0) 21.4715566158 \t ('JK', 334946.0) 29286.276569\n",
        "('RECREATIONAL', 827303.0) 21.4920144257 \t ('KJ', 255857.0) 29286.276569\n",
        "('TRANSCRIPTIONAL', 77948.0) 21.5846433652 \t ('WJ', 477758.0) 28800.459749\n",
        "('DIRECTIONAL', 400094.0) 21.5992616812 \t ('JW', 1002407.0) 28800.459749\n",
        "('RECREATIONS', 168425.0) 21.6184515735 \t ('VZ', 89089.0) 28430.0120979\n",
        "('RECAPITULATION', 191139.0) 21.6790306612 \t ('VJ', 162261.0) 28071.6815898\n",
        "('DETERMINATIONS', 723859.0) 21.7319737471 \t ('JV', 266700.0) 28071.6815898\n",
        "('ARTICULATIONS', 136628.0) 21.9017748242 \t ('FJ', 415665.0) 27617.6980582\n",
        "('INTERPERSONAL', 1685444.0) 21.9623330224 \t ('JF', 790493.0) 27617.6980582\n",
        "('CREATIONS', 497567.0) 21.9679186014 \t ('JY', 79893.0) 27282.5534046\n",
        "('REACTIONS', 6184295.0) 21.9679186014 \t ('HZ', 559567.0) 27221.1003679\n",
        "('CORRELATIONS', 1008039.0) 21.9831399566 \t ('JB', 1300526.0) 27133.6079937\n",
        "('PREDESTINATION', 188065.0) 21.9968161888 \t ('BJ', 456310.0) 27133.6079937\n",
        "('ARISTOTELIAN', 349182.0) 22.0249505149 \t ('ZU', 817657.0) 27053.9715903\n",
        "('CONSIDERATION', 9823127.0) 22.0819126715 \t ('BUZZ', 333367.0) 27049.2992717\n",
        "('CONGRATULATIONS', 388806.0) 22.0992720912 \t ('DZ', 97007.0) 26997.8548937\n",
        "('RESUSCITATION', 333009.0) 22.1022789426 \t ('ZO', 112448.0) 26913.9919567\n",
        "('CONSTRAINED', 865092.0) 22.1214596293 \t ('OZ', 850210.0) 26913.9919567\n",
        "('ASCERTAINED', 1265108.0) 22.1542951843 \t ('ZN', 214622.0) 26903.3582913\n",
        "('AERONAUTICS', 315097.0) 22.223510944 \t ('NZ', 108001.0) 26903.3582913\n",
        "('INTRAPERITONEAL', 125919.0) 22.2321643396 \t ('ZR', 84687.0) 26900.9579445\n",
        "('INTOLERANCE', 574536.0) 22.2593486126 \t ('SZ', 70673.0) 26895.449242\n",
        "('NONSTEROIDAL', 111860.0) 22.3160904258 \t ('ZI', 144850.0) 26892.0335007\n",
        "('ORDINATES', 303928.0) 22.3334513795 \t ('IZ', 142649.0) 26892.0335007\n",
        "('CONTEMPORARIES', 1271762.0) 22.3931246924 \t ('ZA', 220491.0) 26890.4195924\n",
        "('UNSOPHISTICATED', 150655.0) 22.4231777971 \t ('AZ', 381518.0) 26890.4195924\n",
        "('ALTERATIONS', 1381377.0) 22.4504742516 \t ('ZE', 182831.0) 26877.0481822\n",
        "('INTERGENERATIONAL', 166222.0) 22.4634203628 \t ('EZ', 239165.0) 26877.0481822\n",
        "('INTERMOLECULAR', 77428.0) 22.4967886005 \t ('AZIZ', 86353.0) 26872.7355285\n",
        "('NEUROLEPTICS', 75653.0) 22.5064911837 \t ('JH', 1107494.0) 26862.7698598\n",
        "('CONSPIRATORIAL', 75887.0) 22.5407238839 \t ('HJ', 485434.0) 26862.7698598\n",
        "('PRESIDENTIAL', 2384072.0) 22.5555401808 \t ('GJ', 281213.0) 26815.412382\n",
        "('REPRESENTATIONS', 1683780.0) 22.5596336992 \t ('JG', 675344.0) 26815.412382\n",
        "('CARTILAGINOUS', 203751.0) 22.5655743574 \t ('PJ', 510502.0) 26776.0301189\n",
        "('INSTRUMENTALITIES', 100872.0) 22.5870591984 \t ('JP', 959239.0) 26776.0301189\n",
        "('UNREALISTIC', 466694.0) 22.6229720271 \t ('JM', 1461169.0) 26755.3266668\n",
        "('SECONDARIES', 96864.0) 22.6269472391 \t ('MJ', 740287.0) 26755.3266668\n",
        "('INSTRUCTIONAL', 1395624.0) 22.6284447039 \t ('JU', 347050.0) 26695.6410822\n",
        "('ESCALATION', 221371.0) 22.6352914054 \t ('UJ', 103899.0) 26695.6410822\n",
        "('ENTRAILS', 139905.0) 22.6586143764 \t ('DJ', 624804.0) 26639.5243857\n",
        "('ENCAPSULATION', 104420.0) 22.6718872324 \t ('JD', 957911.0) 26639.5243857\n",
        "('LACERATION', 189373.0) 22.7015998648 \t ('CJ', 704321.0) 26628.7883084\n",
        "('SENSORINEURAL', 70001.0) 22.7129803097 \t ('JC', 1246986.0) 26628.7883084\n",
        "('DISCONSOLATE', 108751.0) 22.7553087141 \t ('JL', 1145068.0) 26575.3057185\n",
        "('COASTLINE', 193001.0) 22.7874236749 \t ('LJ', 536227.0) 26575.3057185\n",
        "('SECTIONAL', 949486.0) 22.7874236749 \t ('JO', 1374261.0) 26555.6614486\n",
        "('ALTERNATIONS', 108439.0) 22.8019564554 \t ('OJ', 597456.0) 26555.6614486\n",
        "('INTERCOLLEGIATE', 136424.0) 22.8128736639 \t ('TJ', 601195.0) 26550.9012975\n",
        "('DICTIONARIES', 376634.0) 22.8346951166 \t ('JT', 642877.0) 26550.9012975\n",
        "('INTERACTIONAL', 168777.0) 22.8385240232 \t ('NJ', 2449876.0) 26545.0277832\n",
        "('CEREMONIALS', 81849.0) 22.8497968055 \t ('JN', 604006.0) 26545.0277832\n",
        "('LACEDAEMONIANS', 132098.0) 22.8548649798 \t ('RJ', 823637.0) 26542.6274364\n",
        "('GASTROINTESTINAL', 1096734.0) 22.9865438557 \t ('JR', 6822531.0) 26542.6274364\n",
        "('STREAMLINED', 148390.0) 23.0098502244 \t ('SJ', 707231.0) 26537.118734\n",
        "('PROSTAGLANDINS', 176899.0) 23.0293906506 \t ('JS', 1016086.0) 26537.118734\n",
        "('DECORATIONS', 587407.0) 23.0421834626 \t ('IJ', 408170.0) 26533.7029926\n",
        "('COORDINATES', 1189160.0) 23.0421834626 \t ('JI', 500275.0) 26533.7029926\n",
        "('EDITORIALS', 294544.0) 23.0479237815 \t ('AJ', 988968.0) 26532.0890843\n",
        "('INTERNATIONALISM', 153536.0) 23.1023544562 \t ('JA', 1852547.0) 26532.0890843\n",
        "('ESTRADIOL', 220524.0) 23.1028645921 \t ('EJ', 541071.0) 26518.7176741\n",
        "('IDOLATERS', 87164.0) 23.1028645921 \t ('JE', 2498763.0) 26518.7176741\n",
        "('TRANSPARENCIES', 113584.0) 23.1230581566 \t ('MEQ', 223122.0) 26296.3873216\n",
        "('GLOUCESTERSHIRE', 76139.0) 23.1257497429 \t ('QUO', 1188613.0) 26285.5979697\n",
        "('ADOLESCENTS', 1935857.0) 23.1578148857 \t ('QUR', 201936.0) 26280.2529945\n",
        "('PATERNALISTIC', 130835.0) 23.1618810293 \t ('QUI', 2619629.0) 26276.6431802\n"
       ]
      }
     ],
     "prompt_number": 76
    },
    {
     "cell_type": "markdown",
     "metadata": {},
     "source": [
      "Okay, here's a simpler calculation that seems to be a good distance metric."
     ]
    },
    {
     "cell_type": "code",
     "collapsed": false,
     "input": [
      "distances = np.sqrt(np.sum(wordmat_centered ** 2, axis=1))  # - np.dot(wordmat_centered, etaoin) ** 2\n",
      "distances *= np.sqrt(wordlengths)\n",
      "argsorted = np.argsort(distances)\n",
      "for idx in range(100):\n",
      "    print(wordfreqs[argsorted[idx]], distances[argsorted[idx]], '\\t', wordfreqs[argsorted[34500+idx]], distances[argsorted[34500+idx]]) "
     ],
     "language": "python",
     "metadata": {},
     "outputs": [
      {
       "output_type": "stream",
       "stream": "stdout",
       "text": [
        "('E', 39103392.0) 9.28529913844 \t ('MAGMA', 150892.0) 34.1022263646\n",
        "('AE', 1400214.0) 11.014144085 \t ('GAMMA', 1135857.0) 34.1022263646\n",
        "('EA', 1405311.0) 11.014144085 \t ('CARRYOVER', 76006.0) 34.1051453988\n",
        "('IE', 10226048.0) 11.1597126572 \t ('SYBIL', 180679.0) 34.1065688459\n",
        "('EI', 637520.0) 11.1597126572 \t ('SIBYL', 132655.0) 34.1065688459\n",
        "('ES', 2714932.0) 11.4617044632 \t ('UNDERTAKING', 1684661.0) 34.1132045184\n",
        "('SE', 5326130.0) 11.4617044632 \t ('GORBACHEV', 198640.0) 34.1141188928\n",
        "('EIA', 106816.0) 11.6738767526 \t ('SHAY', 83077.0) 34.1152365509\n",
        "('AIE', 72701.0) 11.6738767526 \t ('HAYS', 348288.0) 34.1152365509\n",
        "('ESA', 120680.0) 11.849292663 \t ('ASHY', 73239.0) 34.1152365509\n",
        "('ASE', 91061.0) 11.849292663 \t ('DEVISE', 963395.0) 34.1157393722\n",
        "('SEA', 20806348.0) 11.849292663 \t ('COLLINGWOOD', 91188.0) 34.1183181474\n",
        "('EAS', 83591.0) 11.849292663 \t ('SHREWDNESS', 161978.0) 34.1187523635\n",
        "('AES', 100966.0) 11.849292663 \t ('VENEER', 272335.0) 34.1191706262\n",
        "('SAE', 313807.0) 11.849292663 \t ('VOIDING', 147745.0) 34.1191845621\n",
        "('SIE', 421155.0) 11.9308778964 \t ('FORBES', 702317.0) 34.1198581882\n",
        "('ISE', 121589.0) 11.9308778964 \t ('SHELVED', 84270.0) 34.1199076289\n",
        "('EIS', 158410.0) 11.9308778964 \t ('UNSUCCESSFULLY', 281847.0) 34.1217527827\n",
        "('IES', 168790.0) 11.9308778964 \t ('SILVIA', 97777.0) 34.1230221853\n",
        "('SEI', 256923.0) 11.9308778964 \t ('PSYCH', 130160.0) 34.1235507126\n",
        "('ER', 5992802.0) 11.9326474073 \t ('ANSWERABLE', 209196.0) 34.1237827795\n",
        "('RE', 35076526.0) 11.9326474073 \t ('FORGE', 648751.0) 34.1238668407\n",
        "('A', 2578314946.0) 12.085512345 \t ('STOVES', 268273.0) 34.1240628322\n",
        "('REA', 232897.0) 12.1288433666 \t ('NEWSPRINT', 110370.0) 34.1256281046\n",
        "('RAE', 215390.0) 12.1288433666 \t ('ALCOVE', 136880.0) 34.1258951601\n",
        "('EAR', 6094998.0) 12.1288433666 \t ('PURPURA', 232426.0) 34.1277358898\n",
        "('ERA', 4837528.0) 12.1288433666 \t ('ONY', 87482.0) 34.1279499142\n",
        "('ARE', 607830464.0) 12.1288433666 \t ('YON', 1678193.0) 34.1279499142\n",
        "('EN', 9558159.0) 12.1321378031 \t ('CALVIN', 1081606.0) 34.131740119\n",
        "('NE', 4823939.0) 12.1321378031 \t ('THEY', 419684551.0) 34.1344582727\n",
        "('REI', 181340.0) 12.2085606105 \t ('PRESUPPOSE', 184858.0) 34.1362017314\n",
        "('IER', 81735.0) 12.2085606105 \t ('HANDBUCH', 144830.0) 34.1418454319\n",
        "('IRE', 521451.0) 12.2085606105 \t ('VIENNA', 2376134.0) 34.1422636215\n",
        "('NAE', 144988.0) 12.249298197 \t ('CONVEYING', 580453.0) 34.1430572329\n",
        "('EAN', 158014.0) 12.249298197 \t ('BELIEVED', 10709904.0) 34.1442793542\n",
        "('ANE', 187097.0) 12.249298197 \t ('MPH', 375053.0) 34.144484245\n",
        "('NEA', 212577.0) 12.249298197 \t ('MAFIA', 194100.0) 34.144704734\n",
        "('AI', 2123664.0) 12.2996750773 \t ('SLAVES', 4918328.0) 34.1450373038\n",
        "('IA', 2149901.0) 12.2996750773 \t ('GIFTS', 3300411.0) 34.1469161178\n",
        "('AIRE', 89810.0) 12.3192034528 \t ('FLOPS', 95811.0) 34.1481926781\n",
        "('INE', 251167.0) 12.3282365765 \t ('DEVLIN', 104756.0) 34.1494774509\n",
        "('EIN', 736391.0) 12.3282365765 \t ('OTHERWISE', 11377592.0) 34.1503617525\n",
        "('NIE', 131567.0) 12.3282365765 \t ('INFANCY', 1641978.0) 34.1506197487\n",
        "('IEN', 171165.0) 12.3282365765 \t ('DERIVE', 1755751.0) 34.1507317281\n",
        "('NEI', 103642.0) 12.3282365765 \t ('MERIWETHER', 78078.0) 34.1525469663\n",
        "('I', 719595088.0) 12.3754007213 \t ('HUBS', 110410.0) 34.1559419836\n",
        "('ESR', 97546.0) 12.3764005412 \t ('BUSH', 2494513.0) 34.1559419836\n",
        "('ERS', 299110.0) 12.3764005412 \t ('CLOVES', 258715.0) 34.1562632483\n",
        "('RES', 2874605.0) 12.3764005412 \t ('MORGANTOWN', 71133.0) 34.156316203\n",
        "('SER', 984952.0) 12.3764005412 \t ('BOYLE', 391020.0) 34.1573621309\n",
        "('ERAS', 246582.0) 12.4312726489 \t ('YUCCA', 91939.0) 34.1596407557\n",
        "('EARS', 4539397.0) 12.4312726489 \t ('STRICKLAND', 169767.0) 34.1605950467\n",
        "('SERA', 440640.0) 12.4312726489 \t ('LATVIA', 132185.0) 34.1658314894\n",
        "('ARES', 102463.0) 12.4312726489 \t ('DEVINE', 95436.0) 34.1664267059\n",
        "('REIS', 102562.0) 12.4833007449 \t ('VEINED', 134931.0) 34.1664267059\n",
        "('SIRE', 679115.0) 12.4833007449 \t ('ENVIED', 297979.0) 34.1664267059\n",
        "('RISE', 12787155.0) 12.4833007449 \t ('P', 67045666.0) 34.1674943164\n",
        "('RIES', 104831.0) 12.4833007449 \t ('FORTHRIGHT', 143970.0) 34.170291716\n",
        "('SEN', 947324.0) 12.4944689869 \t ('LEFTOVERS', 79724.0) 34.1707182669\n",
        "('ENS', 154500.0) 12.4944689869 \t ('SERVED', 10749042.0) 34.1715330547\n",
        "('NES', 111894.0) 12.4944689869 \t ('VERSED', 319066.0) 34.1715330547\n",
        "('SANE', 621057.0) 12.5116302003 \t ('SIEVES', 76075.0) 34.1715361232\n",
        "('SEAN', 366492.0) 12.5116302003 \t ('NEVINS', 90476.0) 34.1726171637\n",
        "('ARIES', 206519.0) 12.5324007272 \t ('LEVELED', 319415.0) 34.1771773097\n",
        "('AIRES', 732954.0) 12.5324007272 \t ('RIBBENTROP', 88684.0) 34.1773191918\n",
        "('ARISE', 4825736.0) 12.5324007272 \t ('GRAFT', 999822.0) 34.1811877938\n",
        "('RAISE', 6103897.0) 12.5324007272 \t ('FUROR', 109326.0) 34.1815348295\n",
        "('EAT', 7452050.0) 12.5404907253 \t ('VERACITY', 262101.0) 34.1826779339\n",
        "('ATE', 2540707.0) 12.5404907253 \t ('HUMPHREYS', 208597.0) 34.182703163\n",
        "('TEA', 4630161.0) 12.5404907253 \t ('BILLBOARDS', 102817.0) 34.1827910795\n",
        "('ETA', 242050.0) 12.5404907253 \t ('GOLDWATER', 140564.0) 34.1840192999\n",
        "('TAE', 109703.0) 12.5404907253 \t ('VIRTUOUS', 1117048.0) 34.184429272\n",
        "('AET', 90907.0) 12.5404907253 \t ('DARWINISM', 172865.0) 34.1873039616\n",
        "('INES', 83961.0) 12.5633255186 \t ('CLOVER', 666115.0) 34.1912141309\n",
        "('SINE', 885358.0) 12.5633255186 \t ('FABLES', 419143.0) 34.1958921715\n",
        "('SEIN', 247869.0) 12.5633255186 \t ('SUCCUMB', 245494.0) 34.1970384588\n",
        "('AIS', 106305.0) 12.5720058762 \t ('VOCABULARY', 1953510.0) 34.2004499396\n",
        "('IAS', 93340.0) 12.5720058762 \t ('INFALLIBLY', 136870.0) 34.2006351723\n",
        "('SAI', 138583.0) 12.5720058762 \t ('MYSTERIOUSLY', 287025.0) 34.202213064\n",
        "('ASI', 126586.0) 12.5720058762 \t ('CLOVEN', 82139.0) 34.2068905344\n",
        "('ISA', 666520.0) 12.5720058762 \t ('WEALTHIER', 170385.0) 34.2085171399\n",
        "('SIA', 126036.0) 12.5720058762 \t ('PAINSTAKINGLY', 107892.0) 34.2092909787\n",
        "('SA', 2999411.0) 12.5743186542 \t ('SWEETENED', 170395.0) 34.2095635099\n",
        "('AS', 941161372.0) 12.5743186542 \t ('MIDWINTER', 95455.0) 34.210460566\n",
        "('ANISE', 82866.0) 12.5899225573 \t ('HOUSEKEEPERS', 73094.0) 34.2163814048\n",
        "('SIENA', 223872.0) 12.5899225573 \t ('FAMED', 441981.0) 34.2165579715\n",
        "('ET', 31644176.0) 12.6069741124 \t ('VINEYARD', 518167.0) 34.2174892199\n",
        "('TE', 2436751.0) 12.6069741124 \t ('SHELVES', 827492.0) 34.2180984366\n",
        "('ITE', 220641.0) 12.6176074752 \t ('ERSTWHILE', 131363.0) 34.2193701492\n",
        "('TIE', 2948173.0) 12.6176074752 \t ('NERVED', 141207.0) 34.222137751\n",
        "('AREN', 2371616.0) 12.6919992514 \t ('DENVER', 1367472.0) 34.222137751\n",
        "('NEAR', 28127679.0) 12.6919992514 \t ('FARGO', 175951.0) 34.2245687145\n",
        "('RENA', 72867.0) 12.6919992514 \t ('VOCALS', 89274.0) 34.2246470751\n",
        "('EARN', 1856811.0) 12.6919992514 \t ('MOUTHFUL', 176127.0) 34.2261731561\n",
        "('ARNE', 70534.0) 12.6919992514 \t ('VESTED', 1206164.0) 34.2265406027\n",
        "('SI', 4537805.0) 12.7020197719 \t ('VERSES', 2132210.0) 34.2272388518\n",
        "('IS', 1391545737.0) 12.7020197719 \t ('SERVES', 3822113.0) 34.2272388518\n",
        "('SEAT', 6666467.0) 12.7080792389 \t ('NINEVEH', 197269.0) 34.2302629487\n",
        "('ESTA', 232502.0) 12.7080792389 \t ('FUMING', 121163.0) 34.230387518\n",
        "('SATE', 169610.0) 12.7080792389 \t ('MANFULLY', 115883.0) 34.2329016071\n"
       ]
      }
     ],
     "prompt_number": 105
    },
    {
     "cell_type": "code",
     "collapsed": false,
     "input": [
      "hist, bins = np.histogram(distances, bins=100)\n",
      "centers = (bins[:-1] + bins[1:]) / 2\n",
      "widths = (bins[1:] - bins[:-1]) * 1"
     ],
     "language": "python",
     "metadata": {},
     "outputs": [],
     "prompt_number": 84
    },
    {
     "cell_type": "code",
     "collapsed": false,
     "input": [
      "plt.bar(centers[:50], hist[:50], align='center', width=widths[:50])"
     ],
     "language": "python",
     "metadata": {},
     "outputs": [
      {
       "metadata": {},
       "output_type": "pyout",
       "prompt_number": 86,
       "text": [
        "<Container object of 50 artists>"
       ]
      },
      {
       "metadata": {},
       "output_type": "display_data",
       "png": "[encoded data removed]",
       "text": [
        "<matplotlib.figure.Figure at 0x7fa437ea9550>"
       ]
      }
     ],
     "prompt_number": 86
    },
    {
     "cell_type": "code",
     "collapsed": false,
     "input": [
      "# This would make a good cost-per-word for A* search\n",
      "np.mean(distances)"
     ],
     "language": "python",
     "metadata": {},
     "outputs": [
      {
       "metadata": {},
       "output_type": "pyout",
       "prompt_number": 103,
       "text": [
        "34.429167833600772"
       ]
      }
     ],
     "prompt_number": 103
    },
    {
     "cell_type": "code",
     "collapsed": false,
     "input": [
      "np.sum(distances < 50)"
     ],
     "language": "python",
     "metadata": {},
     "outputs": [
      {
       "metadata": {},
       "output_type": "pyout",
       "prompt_number": 104,
       "text": [
        "40833"
       ]
      }
     ],
     "prompt_number": 104
    },
    {
     "cell_type": "code",
     "collapsed": false,
     "input": [
      "wordmat_centered[10000]"
     ],
     "language": "python",
     "metadata": {},
     "outputs": [
      {
       "metadata": {},
       "output_type": "pyout",
       "prompt_number": 107,
       "text": [
        "array([ 0.50033864, -1.        , -1.        , -1.        , -1.        ,\n",
        "       -1.        , -1.        , -1.        ,  0.54004496, -1.        ,\n",
        "       -1.        ,  3.63007814, -1.        ,  0.79013487,  0.99258988,\n",
        "       -1.        , -1.        , -1.        ,  0.62029188, -1.        ,\n",
        "        2.68297926, -1.        , -1.        , -1.        , -1.        , -1.        ])"
       ]
      }
     ],
     "prompt_number": 107
    },
    {
     "cell_type": "code",
     "collapsed": false,
     "input": [],
     "language": "python",
     "metadata": {},
     "outputs": []
    }
   ],
   "metadata": {}
  }
 ]
}